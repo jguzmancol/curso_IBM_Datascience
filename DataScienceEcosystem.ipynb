{
  "metadata": {
    "language_info": {
      "codemirror_mode": {
        "name": "python",
        "version": 3
      },
      "file_extension": ".py",
      "mimetype": "text/x-python",
      "name": "python",
      "nbconvert_exporter": "python",
      "pygments_lexer": "ipython3",
      "version": "3.8"
    },
    "kernelspec": {
      "name": "python",
      "display_name": "Python (Pyodide)",
      "language": "python"
    }
  },
  "nbformat_minor": 4,
  "nbformat": 4,
  "cells": [
    {
      "cell_type": "markdown",
      "source": "Exercise 1: Create a Jupyter Notebook",
      "metadata": {}
    },
    {
      "cell_type": "markdown",
      "source": "Exercise 2: Create markdown cell with title of the notebook",
      "metadata": {}
    },
    {
      "cell_type": "markdown",
      "source": "# Data Science Tools and Ecosystem",
      "metadata": {}
    },
    {
      "cell_type": "markdown",
      "source": "Exercise 3 - Create a markdown cell for an introduction",
      "metadata": {}
    },
    {
      "cell_type": "markdown",
      "source": "In this notebook, Data Science Tools and Ecosystem are summarized.",
      "metadata": {}
    },
    {
      "cell_type": "markdown",
      "source": "Exercise 4 - Create a markdown cell to list data science languages",
      "metadata": {}
    },
    {
      "cell_type": "markdown",
      "source": "**Some of the popular languages that Datascience use are:**\n\n1. Python\n2. R\n3. Julia\n4. Scala\n5. Java\n6. C++\n7. Java Script\n8. PHP\n9. GO\n10. Ruby\n11. Visual Basic",
      "metadata": {}
    },
    {
      "cell_type": "markdown",
      "source": "Exercise 5 - Create a markdown cell to list data science libraries",
      "metadata": {}
    },
    {
      "cell_type": "markdown",
      "source": "Some of the commonly used libraries used by Data Scientits include:\n\n**Scientifics Computing Libraries in Python**\n1. Pandas (_Data Structures and Tools_)\n2. Numpy (_Arrays and Matrices_)\n\n**Visualization Libraries in Python**\n1. Matplotlib (_Plots and Graphs, most Popular_)\n2. Seaborn (_plots: heat maps time series, violin plots_)\n\n**Machine Learning and Deep Learning Libraries in Python**\n1. Scikit (_Machine Learning: regression, classification, clustering_)\n2. Keras (_Deep Learning Neural Networks_)\n\n**Deep Learning Libraries in Python**\n1. Tensor Flow (_Deep learning: Production and Deployment_)\n2. PyTorch (_Deep Learning: regression, classification_)\n\n**Apache Spark (_General-Purpose Cluster-Computing framework_)**\n1. Similar Functionality to: Pandas, Numpy and Scikit-learn\n\n**Scala (Predominated in Data Engineering and Data Science)**\n1. Vegas (_For statistical data visualization_)\n2. Big DL (For Deep learning)\n\n**R Libraries**\n1. ggplot2 (Data Visualization)\n2. Other Libraries to interface with Keras and Tensorflow",
      "metadata": {}
    },
    {
      "cell_type": "markdown",
      "source": "Exercise 6 - Create a markdown cell with a table of Data Science tools",
      "metadata": {}
    },
    {
      "cell_type": "markdown",
      "source": "| Data Science Tools |\n| ------------------ |\n| Google Colab       |\n| Jupyter Lite       |\n| Visual Studio Code |",
      "metadata": {}
    },
    {
      "cell_type": "markdown",
      "source": "Exercise 7 - Create a markdown cell introducing arithmetic expression examples",
      "metadata": {}
    },
    {
      "cell_type": "markdown",
      "source": "### Below are a few examples of evaluating aritmethic expressions in python\n1. 4 + 2 = 6\n2. 4 - 2 = 2\n3. 4 * 2 = 8\n4. 4 / 2 = 2\n5. 4 % 2 = 0\n6. 4**2  = 16",
      "metadata": {}
    },
    {
      "cell_type": "markdown",
      "source": "Exercise 8 - Create a code cell to multiply and add numbers",
      "metadata": {}
    },
    {
      "cell_type": "code",
      "source": "#This is an example of an aritmethic expresion multiplying 2 numbers and adding other one\n(3*4)+5",
      "metadata": {
        "trusted": true
      },
      "execution_count": 17,
      "outputs": [
        {
          "execution_count": 17,
          "output_type": "execute_result",
          "data": {
            "text/plain": "17"
          },
          "metadata": {}
        }
      ]
    },
    {
      "cell_type": "markdown",
      "source": "Exercise 9 - Create a code cell to convert minutes to hours",
      "metadata": {}
    },
    {
      "cell_type": "code",
      "source": "# Exercise 9 - Create a Code cell to convert minutes to hours\n\n# This will convert 200 minutes to hours by diving by 60\n\n200/60",
      "metadata": {
        "trusted": true
      },
      "execution_count": 16,
      "outputs": [
        {
          "execution_count": 16,
          "output_type": "execute_result",
          "data": {
            "text/plain": "3.3333333333333335"
          },
          "metadata": {}
        }
      ]
    },
    {
      "cell_type": "markdown",
      "source": "Exercise 10 - Insert a markdown cell to list Objectives",
      "metadata": {}
    },
    {
      "cell_type": "markdown",
      "source": "**Objetives**\n\n- To know which are the most popular programming languages for data science\n- Gather the most used libraries in data science\n- Remember the handling of tables in Markdown mode and remembering 3 of the Open Source development tools for data science projects\n- Remember simple arithmetic expressions\n- Remember the handling of ordered and unordered lists",
      "metadata": {}
    },
    {
      "cell_type": "markdown",
      "source": "Exercise 11 - Create a markdown cell to indicate the Author's name",
      "metadata": {}
    },
    {
      "cell_type": "markdown",
      "source": "## Author\nJose Guzman",
      "metadata": {}
    },
    {
      "cell_type": "markdown",
      "source": "Exercise 12 - Share your notebook through GitHub",
      "metadata": {}
    },
    {
      "cell_type": "markdown",
      "source": "",
      "metadata": {}
    },
    {
      "cell_type": "markdown",
      "source": "Exercise 13 -Take a screenshot of the first page of the notebook",
      "metadata": {}
    },
    {
      "cell_type": "markdown",
      "source": "",
      "metadata": {}
    }
  ]
}